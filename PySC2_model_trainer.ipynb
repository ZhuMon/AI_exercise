{
  "nbformat": 4,
  "nbformat_minor": 0,
  "metadata": {
    "colab": {
      "name": "PySC2-model trainer.ipynb",
      "provenance": [],
      "private_outputs": true,
      "collapsed_sections": [],
      "include_colab_link": true
    },
    "kernelspec": {
      "name": "python3",
      "display_name": "Python 3"
    },
    "accelerator": "GPU"
  },
  "cells": [
    {
      "cell_type": "markdown",
      "metadata": {
        "id": "view-in-github",
        "colab_type": "text"
      },
      "source": [
        "<a href=\"https://colab.research.google.com/github/ZhuMon/AI_exercise/blob/master/PySC2_model_trainer.ipynb\" target=\"_parent\"><img src=\"https://colab.research.google.com/assets/colab-badge.svg\" alt=\"Open In Colab\"/></a>"
      ]
    },
    {
      "cell_type": "markdown",
      "metadata": {
        "id": "iU1GVYdTDnK-",
        "colab_type": "text"
      },
      "source": [
        "# PySc2 machine learning model trainer for Google Colaboratory.\n",
        "\n",
        "**Author**: Paul Steven Conyngham\n",
        "\n",
        "**Contributors**: Paul Steven Conyngham, Frank He, William Xu\n",
        "\n",
        "\n",
        "This Google Colab Notebook is setup to get a basic version of the DQN algorithm training on Colabs. We could have compressed all the necessary steps into a simple bash script file, however we have left them all here so you can see  the steps required to get PySc2 working on Colabs.\n",
        "\n",
        "Feel free to make a copy of this notebook & modify it for your own PySC2 machine learning purposes.\n",
        "\n",
        "\n",
        "\n",
        "\n",
        "\n",
        "\n"
      ]
    },
    {
      "cell_type": "markdown",
      "metadata": {
        "id": "ASZ8vR5MQM3x",
        "colab_type": "text"
      },
      "source": [
        "Steps to get started:\n",
        "\n",
        "1.   First off click **File**, on the menu above & **Save a copy in drive**, this will copy an instance to your google drive, to allow you to start running it!\n",
        "\n",
        "2.   Once the notebook has finished copying, go to your fresh copy and click **\"connect\"** in the top right hand corner of Colabs. This connects your computer to a power Virtual Machine sitting in Google's cloud.\n",
        "\n",
        "\n"
      ]
    },
    {
      "cell_type": "markdown",
      "metadata": {
        "id": "tBDHb-GC7wi2",
        "colab_type": "text"
      },
      "source": [
        "How to run it:\n",
        "\n",
        "\n",
        "**For those new to Colaboratory**, there are two types of \"cell blocks\" **text** (like the one you are reading right now) and **code**. For code Cell blocks just click the little play button in order to get the code to run. The play button looks like this:\n",
        "\n",
        "![alt text](https://image.ibb.co/i4sxHH/Screen_Shot_2018_04_10_at_3_04_50_pm.png)\n",
        "\n",
        "Or you can simply click the \"**Runtime**\" menu button up above, and click \"**Run all**\", sit back & watch colabs go to work.\n",
        "\n"
      ]
    },
    {
      "cell_type": "markdown",
      "metadata": {
        "id": "b8DrhJtBAnw4",
        "colab_type": "text"
      },
      "source": [
        "Also, for those of you looking to dive a little deeper into Colabs, feel free to check out Google's official intro to Colaboratory here:\n",
        "\n",
        "[Official colab usage documentation](https://colab.research.google.com/notebooks/welcome.ipynb)"
      ]
    },
    {
      "cell_type": "markdown",
      "metadata": {
        "id": "sXshb7q57cBX",
        "colab_type": "text"
      },
      "source": [
        "One final sidenote: it would be amazing to be able to render here somehow"
      ]
    },
    {
      "cell_type": "markdown",
      "metadata": {
        "id": "gImRQ1y-f0H5",
        "colab_type": "text"
      },
      "source": [
        "## Run all the stuff below (takes about 10 minutes) to setup pysc2 on colabs\n",
        "\n",
        "Go Grab a coffee whilst PySc2 installs.\n",
        "\n"
      ]
    },
    {
      "cell_type": "markdown",
      "metadata": {
        "id": "U6VYztakgB_v",
        "colab_type": "text"
      },
      "source": [
        "## [start of installation section]"
      ]
    },
    {
      "cell_type": "code",
      "metadata": {
        "id": "Yb6P9iBUh_Ta",
        "colab_type": "code",
        "colab": {}
      },
      "source": [
        "\n",
        "!pip3 install -U PyDrive\n",
        "!pip3 install https://download.pytorch.org/whl/cu80/torch-0.3.1-cp36-cp36m-linux_x86_64.whl && pip install torchvision\n",
        "!apt-get -qq install -y libsm6 libxext6 && pip3 install -U opencv-python\n",
        "!apt-get install -y xvfb python-opengl"
      ],
      "execution_count": 0,
      "outputs": []
    },
    {
      "cell_type": "markdown",
      "metadata": {
        "id": "-DRY7WdZrb4u",
        "colab_type": "text"
      },
      "source": [
        "Download the headless SC2 client"
      ]
    },
    {
      "cell_type": "code",
      "metadata": {
        "id": "5lafjJ1-sWhf",
        "colab_type": "code",
        "colab": {}
      },
      "source": [
        "!wget http://blzdistsc2-a.akamaihd.net/Linux/SC2.4.0.2.zip"
      ],
      "execution_count": 0,
      "outputs": []
    },
    {
      "cell_type": "markdown",
      "metadata": {
        "id": "-VElJXaLe1Qt",
        "colab_type": "text"
      },
      "source": [
        "Note: By typing in the password ‘iagreetotheeula’ you agree to be bound by the terms of [Blizzard's AI and Machine Learning License](https://blzdistsc2-a.akamaihd.net/AI_AND_MACHINE_LEARNING_LICENSE.html)"
      ]
    },
    {
      "cell_type": "code",
      "metadata": {
        "id": "JBCh3CeizZhu",
        "colab_type": "code",
        "colab": {}
      },
      "source": [
        "!unzip -P iagreetotheeula SC2.4.0.2.zip"
      ],
      "execution_count": 0,
      "outputs": []
    },
    {
      "cell_type": "code",
      "metadata": {
        "id": "CX2F3B1Mz6Mm",
        "colab_type": "code",
        "colab": {}
      },
      "source": [
        "!pip install pysc2"
      ],
      "execution_count": 0,
      "outputs": []
    },
    {
      "cell_type": "code",
      "metadata": {
        "id": "J80V7zIku0PT",
        "colab_type": "code",
        "colab": {}
      },
      "source": [
        "\n",
        "!git clone https://github.com/PaulConyngham/DeepRLBootCampLabs.git"
      ],
      "execution_count": 0,
      "outputs": []
    },
    {
      "cell_type": "code",
      "metadata": {
        "id": "QH13rqOHaT22",
        "colab_type": "code",
        "colab": {}
      },
      "source": [
        "!rsync -a ~/DeepRLBootCampLabs/pytorch ~/"
      ],
      "execution_count": 0,
      "outputs": []
    },
    {
      "cell_type": "code",
      "metadata": {
        "id": "LKo32fOscwyG",
        "colab_type": "code",
        "colab": {}
      },
      "source": [
        "!wget https://github.com/deepmind/pysc2/raw/master/pysc2/maps/mini_games/MoveToBeacon.SC2Map"
      ],
      "execution_count": 0,
      "outputs": []
    },
    {
      "cell_type": "code",
      "metadata": {
        "id": "FuAN3wfPdHpb",
        "colab_type": "code",
        "colab": {}
      },
      "source": [
        "!mkdir StarCraftII/Maps/mini_games\n"
      ],
      "execution_count": 0,
      "outputs": []
    },
    {
      "cell_type": "code",
      "metadata": {
        "id": "FvXaT_VznzaD",
        "colab_type": "code",
        "colab": {}
      },
      "source": [
        "#!mkdir pytorch/data\n",
        "\n",
        "!mkdir -p ./pytorch/data"
      ],
      "execution_count": 0,
      "outputs": []
    },
    {
      "cell_type": "code",
      "metadata": {
        "id": "AzcoocsGdbJd",
        "colab_type": "code",
        "colab": {}
      },
      "source": [
        "!mv MoveToBeacon.SC2Map /content/StarCraftII/Maps/mini_games/"
      ],
      "execution_count": 0,
      "outputs": []
    },
    {
      "cell_type": "code",
      "metadata": {
        "id": "Jb_xcPoFdpbc",
        "colab_type": "code",
        "colab": {}
      },
      "source": [
        "!ls /content/StarCraftII/Maps/mini_games/"
      ],
      "execution_count": 0,
      "outputs": []
    },
    {
      "cell_type": "code",
      "metadata": {
        "id": "nGIVuvfREYWL",
        "colab_type": "code",
        "colab": {}
      },
      "source": [
        "!apt-get remove libtcmalloc*"
      ],
      "execution_count": 0,
      "outputs": []
    },
    {
      "cell_type": "markdown",
      "metadata": {
        "id": "jfUqb3q0gL0_",
        "colab_type": "text"
      },
      "source": [
        "## [end of installation section]"
      ]
    },
    {
      "cell_type": "markdown",
      "metadata": {
        "id": "0tJ_TtmhgP6H",
        "colab_type": "text"
      },
      "source": [
        "## Run the command below to get Pysc2 running on colabs!\n",
        "\n"
      ]
    },
    {
      "cell_type": "code",
      "metadata": {
        "id": "WSros5dPds2-",
        "colab_type": "code",
        "colab": {}
      },
      "source": [
        "\n",
        "\n",
        "!PYTHONPATH=. timeout -s 2 11h python ~/pytorch/sc2_agents/BaseTrainer.py --map=MoveToBeacon --train=True\n"
      ],
      "execution_count": 0,
      "outputs": []
    },
    {
      "cell_type": "markdown",
      "metadata": {
        "id": "ahCHraqno5Ke",
        "colab_type": "text"
      },
      "source": [
        "\n",
        "\n",
        "## Now, Download the weights from your trained neural network!\n",
        "\n",
        "\n"
      ]
    },
    {
      "cell_type": "code",
      "metadata": {
        "id": "_yg38AwJoyN-",
        "colab_type": "code",
        "colab": {}
      },
      "source": [
        "from google.colab import files\n",
        "\n",
        "files.download('./pytorch/data/SC2QAgent')"
      ],
      "execution_count": 0,
      "outputs": []
    },
    {
      "cell_type": "code",
      "metadata": {
        "id": "Wo6ShwhFrpNk",
        "colab_type": "code",
        "colab": {}
      },
      "source": [
        "# and thats it!"
      ],
      "execution_count": 0,
      "outputs": []
    }
  ]
}